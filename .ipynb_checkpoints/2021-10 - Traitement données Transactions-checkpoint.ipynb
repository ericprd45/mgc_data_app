{
 "cells": [
  {
   "cell_type": "code",
   "execution_count": 113,
   "metadata": {
    "ExecuteTime": {
     "end_time": "2021-10-24T18:18:43.895019Z",
     "start_time": "2021-10-24T18:18:43.737638Z"
    }
   },
   "outputs": [
    {
     "name": "stdout",
     "output_type": "stream",
     "text": [
      "The autoreload extension is already loaded. To reload it, use:\n",
      "  %reload_ext autoreload\n"
     ]
    }
   ],
   "source": [
    "import seaborn as sns\n",
    "import matplotlib.pyplot as plt\n",
    "import pandas as pd\n",
    "from datetime import datetime\n",
    "import requests\n",
    "from matplotlib import rcParams\n",
    "import os\n",
    "import plotly.graph_objects as go\n",
    "import plotly.express as px\n",
    "from plotly.subplots import make_subplots\n",
    "import json\n",
    "from matplotlib import rcParams\n",
    "import numpy as np\n",
    "\n",
    "import sys\n",
    "sys.path.append(\"C:/Users/eric_/OneDrive/Bureau/Projects/MGC/\")\n",
    "\n",
    "%matplotlib inline\n",
    "%load_ext autoreload\n",
    "%autoreload 2"
   ]
  },
  {
   "cell_type": "code",
   "execution_count": 2,
   "metadata": {
    "ExecuteTime": {
     "end_time": "2021-10-24T17:33:35.268445Z",
     "start_time": "2021-10-24T17:33:35.043525Z"
    }
   },
   "outputs": [],
   "source": [
    "data = pd.read_csv(\"api_transaction.csv\")"
   ]
  },
  {
   "cell_type": "code",
   "execution_count": 7,
   "metadata": {
    "ExecuteTime": {
     "end_time": "2021-10-24T17:33:36.105818Z",
     "start_time": "2021-10-24T17:33:35.948650Z"
    }
   },
   "outputs": [],
   "source": [
    "data.lastTransitionedAt = pd.to_datetime(data.lastTransitionedAt)"
   ]
  },
  {
   "cell_type": "code",
   "execution_count": 8,
   "metadata": {
    "ExecuteTime": {
     "end_time": "2021-10-24T17:33:36.289572Z",
     "start_time": "2021-10-24T17:33:36.110469Z"
    }
   },
   "outputs": [
    {
     "ename": "SyntaxError",
     "evalue": "invalid syntax (<ipython-input-8-824906565bb1>, line 1)",
     "output_type": "error",
     "traceback": [
      "\u001b[1;36m  File \u001b[1;32m\"<ipython-input-8-824906565bb1>\"\u001b[1;36m, line \u001b[1;32m1\u001b[0m\n\u001b[1;33m    transition/enquire                          1282\u001b[0m\n\u001b[1;37m                                                   ^\u001b[0m\n\u001b[1;31mSyntaxError\u001b[0m\u001b[1;31m:\u001b[0m invalid syntax\n"
     ]
    }
   ],
   "source": [
    "transition/enquire                          1282\n",
    "transition/complete                          188\n",
    "transition/expire-review-period              152\n",
    "transition/decline                            88\n",
    "transition/expire                             60\n",
    "transition/cancel                             47\n",
    "transition/review-2-by-customer               38\n",
    "transition/expire-payment                     27\n",
    "transition/review-1-by-provider               26\n",
    "transition/review-2-by-provider               24\n",
    "transition/accept                             23\n",
    "transition/request-payment                    17\n",
    "transition/expire-customer-review-period      17\n",
    "transition/review-1-by-customer               14\n",
    "transition/expire-provider-review-period      10\n",
    "transition/request-payment-after-enquiry       6\n",
    "transition/confirm-payment                     2"
   ]
  },
  {
   "cell_type": "code",
   "execution_count": 9,
   "metadata": {
    "ExecuteTime": {
     "end_time": "2021-10-24T17:33:48.115316Z",
     "start_time": "2021-10-24T17:33:47.961633Z"
    }
   },
   "outputs": [],
   "source": [
    "def map_transaction(x):\n",
    "    if x in ['transition/complete','transition/review-2-by-customer',\n",
    "             'transition/review-1-by-provider','transition/review-2-by-provider',\n",
    "             'transition/review-1-by-customer','transition/expire-review-period',\n",
    "             'transition/expire-provider-review-period','transition/expire-customer-review-period',\n",
    "             'transition/accept'\n",
    "            ]:\n",
    "        return 1\n",
    "    else : \n",
    "        return 0"
   ]
  },
  {
   "cell_type": "code",
   "execution_count": 10,
   "metadata": {
    "ExecuteTime": {
     "end_time": "2021-10-24T17:33:48.244476Z",
     "start_time": "2021-10-24T17:33:48.120106Z"
    }
   },
   "outputs": [],
   "source": [
    "data['istransaction'] = data.lastTransition.apply(lambda x : map_transaction(x))"
   ]
  },
  {
   "cell_type": "code",
   "execution_count": 11,
   "metadata": {
    "ExecuteTime": {
     "end_time": "2021-10-24T17:33:49.117173Z",
     "start_time": "2021-10-24T17:33:48.247589Z"
    }
   },
   "outputs": [
    {
     "data": {
      "text/plain": [
       "<matplotlib.axes._subplots.AxesSubplot at 0x1ea8c0f8d30>"
      ]
     },
     "execution_count": 11,
     "metadata": {},
     "output_type": "execute_result"
    },
    {
     "data": {
      "image/png": "[encoded data removed]",
      "text/plain": [
       "<matplotlib.figure.Figure at 0x1ea8c0f84e0>"
      ]
     },
     "metadata": {
      "needs_background": "light"
     },
     "output_type": "display_data"
    }
   ],
   "source": [
    "data.groupby(pd.Grouper(key='lastTransitionedAt',freq='m')).sum()['istransaction'].plot(kind='bar')"
   ]
  },
  {
   "cell_type": "code",
   "execution_count": 12,
   "metadata": {
    "ExecuteTime": {
     "end_time": "2021-10-24T17:33:49.335649Z",
     "start_time": "2021-10-24T17:33:49.120169Z"
    }
   },
   "outputs": [],
   "source": [
    "data['month_transition'] = data.lastTransitionedAt.dt.month\n",
    "data['year_transition'] = data.lastTransitionedAt.dt.year\n",
    "data['day_transition'] = data.lastTransitionedAt.dt.day"
   ]
  },
  {
   "cell_type": "code",
   "execution_count": 15,
   "metadata": {
    "ExecuteTime": {
     "end_time": "2021-10-24T17:34:05.948008Z",
     "start_time": "2021-10-24T17:34:05.803396Z"
    },
    "scrolled": true
   },
   "outputs": [
    {
     "data": {
      "text/plain": [
       "year_transition  month_transition  day_transition\n",
       "2021             8                 24                13\n",
       "                                   25                19\n",
       "                                   26                16\n",
       "                                   27                 5\n",
       "                                   28                 4\n",
       "                                   29                 5\n",
       "                                   30                16\n",
       "                                   31                 9\n",
       "                 9                 1                  9\n",
       "                                   2                  5\n",
       "                                   3                  8\n",
       "                                   4                  4\n",
       "                                   5                  8\n",
       "                                   6                 12\n",
       "                                   7                  4\n",
       "                                   8                 10\n",
       "                                   9                 10\n",
       "                                   10                 5\n",
       "                                   11                 2\n",
       "                                   12                 1\n",
       "                                   13                14\n",
       "                                   14                 5\n",
       "                                   15                 5\n",
       "                                   16                 6\n",
       "                                   17                11\n",
       "                                   18                 3\n",
       "                                   19                 8\n",
       "                                   20                23\n",
       "                                   21                12\n",
       "                                   22                 8\n",
       "                                   23                 4\n",
       "                                   24                10\n",
       "                                   25                 5\n",
       "                                   26                 7\n",
       "                                   27                 9\n",
       "                                   28                 2\n",
       "                                   29                 8\n",
       "                                   30                 5\n",
       "                 10                1                  6\n",
       "                                   2                  8\n",
       "                                   3                  3\n",
       "                                   4                  8\n",
       "                                   5                 12\n",
       "                                   6                 29\n",
       "                                   7                  7\n",
       "                                   8                  8\n",
       "                                   9                  8\n",
       "                                   10                13\n",
       "                                   11                14\n",
       "                                   12                 1\n",
       "Name: id, dtype: int64"
      ]
     },
     "execution_count": 15,
     "metadata": {},
     "output_type": "execute_result"
    }
   ],
   "source": [
    "data.groupby([\"year_transition\",\"month_transition\",'day_transition']).count()['id'].tail(50)"
   ]
  },
  {
   "cell_type": "code",
   "execution_count": 17,
   "metadata": {
    "ExecuteTime": {
     "end_time": "2021-10-24T17:34:06.363613Z",
     "start_time": "2021-10-24T17:34:06.094019Z"
    }
   },
   "outputs": [],
   "source": [
    "listings = pd.read_csv(\"api_listing.csv\")"
   ]
  },
  {
   "cell_type": "code",
   "execution_count": 19,
   "metadata": {
    "ExecuteTime": {
     "end_time": "2021-10-24T17:34:06.746050Z",
     "start_time": "2021-10-24T17:34:06.525118Z"
    }
   },
   "outputs": [],
   "source": [
    "transac_listing = data.merge(listings,how='left',left_on = 'listing_id',right_on = 'id',suffixes=('_transac','_listings'))"
   ]
  },
  {
   "cell_type": "code",
   "execution_count": 22,
   "metadata": {
    "ExecuteTime": {
     "end_time": "2021-10-24T17:34:07.407895Z",
     "start_time": "2021-10-24T17:34:07.190085Z"
    }
   },
   "outputs": [],
   "source": [
    "profiles = pd.read_csv(\"api_profile.csv\")"
   ]
  },
  {
   "cell_type": "code",
   "execution_count": 32,
   "metadata": {
    "ExecuteTime": {
     "end_time": "2021-10-24T17:38:37.373444Z",
     "start_time": "2021-10-24T17:38:37.227246Z"
    }
   },
   "outputs": [],
   "source": [
    "full_data_transac = transac_listing.merge(profiles,how='left',left_on = 'author_id',right_on='id').merge(profiles,how='left',left_on = 'customer_id',right_on='id',suffixes=('_prop','_loc'))"
   ]
  },
  {
   "cell_type": "code",
   "execution_count": 33,
   "metadata": {
    "ExecuteTime": {
     "end_time": "2021-10-24T17:38:47.798607Z",
     "start_time": "2021-10-24T17:38:47.680504Z"
    }
   },
   "outputs": [],
   "source": [
    "full_data_w_transaction = full_data_transac[full_data_transac.istransaction == 1]"
   ]
  },
  {
   "cell_type": "code",
   "execution_count": 27,
   "metadata": {
    "ExecuteTime": {
     "end_time": "2021-10-24T17:34:08.433287Z",
     "start_time": "2021-10-24T17:34:08.281582Z"
    }
   },
   "outputs": [
    {
     "data": {
      "text/plain": [
       "first_name_prop  last_name_prop  title                                                   \n",
       "Madeleine        Ispari          Elegante capeline                                           23\n",
       "Amélie           de Champs       Très belle Capeline les petites mésanges! Hortensias        14\n",
       "Maïlys           Lanata          Chapeau - Capeline en paille                                 7\n",
       "Madeleine        Ispari          Robe Jane Maison Guillemette TS                              7\n",
       "Amélie           de Champs       Escarpins sezane high Palermo T39                            6\n",
       "Coralie          LEBIGOT         Robe Erell Fleuri multico - T36                              5\n",
       "Amélie           de Champs       Magnifique robe Bash Maddie Bleu T1                          5\n",
       "Mayane           Cayla           Capeline paille                                              4\n",
       "Maguelonne       Lecointre       Chapeau les petites mésanges                                 4\n",
       "Anne-Cécile      HULOT           Chapeau Cannes Doré les Petites Mésanges                     4\n",
       "Diane            Cbt             Capeline en paille et hortensias séchés                      4\n",
       "Anne-Cécile      HULOT           Top Roma Maison Guillemette T.S                              3\n",
       "Marie-Alix       Roux            Capeline en paille et véritables plumes de paon              3\n",
       "Hortense         de Luget        Chapeau Violet, effet garanti !                              3\n",
       "Lauriane         Debats          Combinaison Charles Sézane T36                               3\n",
       "                                 Robe Romy Apoluze T34                                        3\n",
       "Anne-Cécile      HULOT           Chapeau Les Petites Mésanges                                 3\n",
       "Amélie           de Champs       Jolie combinaison verte Sezane iris                          3\n",
       "Anne-Cécile      HULOT           Magnifique robe longue Asos corail T36                       3\n",
       "Marie-Aude       Mlr             Robe rose fuschia Maison Guillemette Taille M                3\n",
       "Anne-Cécile      HULOT           Robe Tara Jarmon jaune volant T36                            3\n",
       "Madeleine        Ispari          Capeline Les Petites Mésanges Cannes doré                    3\n",
       "                                 Capeline l'Atelier de Clotilde                               3\n",
       "Anne-Cécile      HULOT           Robe Sezane Rachelle jaune S                                 3\n",
       "Camille          Mauron          Capeline rose fushia Masario                                 3\n",
       "Anne             Pinson          Robe Ba&sh T2                                                3\n",
       "Amélie           Charbon         Manteau en lin doré Zara XS                                  3\n",
       "Anne-Cécile      HULOT           Veste dorée Maison Guillemette, T.S                          3\n",
       "Amélie           Barbiero        Robe Claudie Pierlot - Vert foncé T36                        3\n",
       "Segolene         Pilat           Capeline noire                                               3\n",
       "marie            moquet          Robe Ba&sh bleu, T.1                                         3\n",
       "Agathe           de Joigny       Chapeau Mademoiselle Chapeaux - modèle Scarlett - ivoire     3\n",
       "Constance        Blanchet        Robe Sezane Sollie                                           3\n",
       "Diane            Cbt             Chapeau Diane Les Petites Mésanges                           3\n",
       "                                 Robe Zara manches volants T38                                3\n",
       "Clémence         Delebecq        Combinaison Vani verte Sezane T34                            3\n",
       "Victoria         Chambreuil      Robe Sezane Gloria S                                         3\n",
       "Clara            de Bisschop     Capeline paille naturelle dorée et fleurs blanches           3\n",
       "                                 Robe longue Graziella Sézane T36                             3\n",
       "Cassandre        d'Ep            Chapeau capeline L'Atelier de Clotilde                       3\n",
       "Name: id_transac, dtype: int64"
      ]
     },
     "execution_count": 27,
     "metadata": {},
     "output_type": "execute_result"
    }
   ],
   "source": [
    "full_data_w_transaction.groupby(['first_name_prop','last_name_prop','title']).count()['id_transac'].sort_values(ascending=False).head(40)"
   ]
  },
  {
   "cell_type": "code",
   "execution_count": 28,
   "metadata": {
    "ExecuteTime": {
     "end_time": "2021-10-24T17:34:08.692477Z",
     "start_time": "2021-10-24T17:34:08.437703Z"
    },
    "scrolled": true
   },
   "outputs": [
    {
     "name": "stderr",
     "output_type": "stream",
     "text": [
      "C:\\Users\\eric_\\Anaconda3\\lib\\site-packages\\ipykernel_launcher.py:1: SettingWithCopyWarning:\n",
      "\n",
      "\n",
      "A value is trying to be set on a copy of a slice from a DataFrame.\n",
      "Try using .loc[row_indexer,col_indexer] = value instead\n",
      "\n",
      "See the caveats in the documentation: https://pandas.pydata.org/pandas-docs/stable/user_guide/indexing.html#returning-a-view-versus-a-copy\n",
      "\n",
      "C:\\Users\\eric_\\Anaconda3\\lib\\site-packages\\ipykernel_launcher.py:2: SettingWithCopyWarning:\n",
      "\n",
      "\n",
      "A value is trying to be set on a copy of a slice from a DataFrame.\n",
      "Try using .loc[row_indexer,col_indexer] = value instead\n",
      "\n",
      "See the caveats in the documentation: https://pandas.pydata.org/pandas-docs/stable/user_guide/indexing.html#returning-a-view-versus-a-copy\n",
      "\n"
     ]
    }
   ],
   "source": [
    "full_data_w_transaction['month_joined'] = full_data_w_transaction.lastTransitionedAt.dt.month\n",
    "full_data_w_transaction['year_joined'] = full_data_w_transaction.lastTransitionedAt.dt.year"
   ]
  },
  {
   "cell_type": "code",
   "execution_count": 29,
   "metadata": {
    "ExecuteTime": {
     "end_time": "2021-10-24T17:34:08.978198Z",
     "start_time": "2021-10-24T17:34:08.698027Z"
    }
   },
   "outputs": [
    {
     "name": "stderr",
     "output_type": "stream",
     "text": [
      "C:\\Users\\eric_\\Anaconda3\\lib\\site-packages\\ipykernel_launcher.py:1: SettingWithCopyWarning:\n",
      "\n",
      "\n",
      "A value is trying to be set on a copy of a slice from a DataFrame.\n",
      "Try using .loc[row_indexer,col_indexer] = value instead\n",
      "\n",
      "See the caveats in the documentation: https://pandas.pydata.org/pandas-docs/stable/user_guide/indexing.html#returning-a-view-versus-a-copy\n",
      "\n"
     ]
    }
   ],
   "source": [
    "full_data_w_transaction['city']=full_data_w_transaction['address'].apply(lambda x : x.split(\",\")[-3] if len(x.split(\",\"))>2 else '')"
   ]
  },
  {
   "cell_type": "code",
   "execution_count": 30,
   "metadata": {
    "ExecuteTime": {
     "end_time": "2021-10-24T17:34:09.295343Z",
     "start_time": "2021-10-24T17:34:08.985276Z"
    },
    "collapsed": true
   },
   "outputs": [
    {
     "data": {
      "text/plain": [
       "city\n",
       "                                      130\n",
       " Paris                                 54\n",
       " 75015 Paris                           48\n",
       " 75116 Paris                           47\n",
       " 75005 Paris                           14\n",
       " 75017 Paris                           12\n",
       " 75012 Paris                           10\n",
       " 75003 Paris                            9\n",
       " Hauts-de-Seine                         8\n",
       " 75007 Paris                            8\n",
       " 75009 Paris                            8\n",
       " 75016 Paris                            8\n",
       " 44300 Nantes                           8\n",
       " Yvelines                               7\n",
       " 75006 Paris                            7\n",
       " 78220 Viroflay                         7\n",
       " 92300 Levallois-Perret                 7\n",
       " 92100 Boulogne-Billancourt             6\n",
       " 49100 Angers                           5\n",
       " 75013 Paris                            4\n",
       " 60270 Gouvieux                         4\n",
       " 51270 Baye                             4\n",
       " 69006 Lyon                             4\n",
       " Hauts-de-Seine 92200                   3\n",
       " 92200 Neuilly-sur-Seine                3\n",
       " 69002 Lyon                             3\n",
       " 75018 Paris                            3\n",
       " 75014 Paris                            2\n",
       " 78000 Versailles                       2\n",
       " Côtes-d'Armor                          2\n",
       " 78210 Saint-Cyr-l'École                2\n",
       " Orne                                   2\n",
       " 1000 Région de Bruxelles-Capitale      2\n",
       " 40000 Mont-de-Marsan                   2\n",
       " 93270 Sevran                           2\n",
       " 33800 Bordeaux                         2\n",
       " 86000 Poitiers                         2\n",
       " 07130 Saint-Péray                      1\n",
       " \"building\": \"Bat A                     1\n",
       " 67200 Strasbourg                       1\n",
       "Name: id_transac, dtype: int64"
      ]
     },
     "execution_count": 30,
     "metadata": {},
     "output_type": "execute_result"
    }
   ],
   "source": [
    "full_data_w_transaction.groupby(['city']).count()['id_transac'].sort_values(ascending=False).head(40)"
   ]
  },
  {
   "cell_type": "code",
   "execution_count": 31,
   "metadata": {
    "ExecuteTime": {
     "end_time": "2021-10-24T17:37:20.682625Z",
     "start_time": "2021-10-24T17:37:20.517733Z"
    }
   },
   "outputs": [
    {
     "data": {
      "text/html": [
       "<div>\n",
       "<style scoped>\n",
       "    .dataframe tbody tr th:only-of-type {\n",
       "        vertical-align: middle;\n",
       "    }\n",
       "\n",
       "    .dataframe tbody tr th {\n",
       "        vertical-align: top;\n",
       "    }\n",
       "\n",
       "    .dataframe thead th {\n",
       "        text-align: right;\n",
       "    }\n",
       "</style>\n",
       "<table border=\"1\" class=\"dataframe\">\n",
       "  <thead>\n",
       "    <tr style=\"text-align: right;\">\n",
       "      <th></th>\n",
       "      <th>id_transac</th>\n",
       "      <th>state_transac</th>\n",
       "      <th>process</th>\n",
       "      <th>createdAt_transac</th>\n",
       "      <th>lastTransition</th>\n",
       "      <th>lastTransitionedAt</th>\n",
       "      <th>lineItems</th>\n",
       "      <th>payIns</th>\n",
       "      <th>payOuts</th>\n",
       "      <th>protectedData</th>\n",
       "      <th>...</th>\n",
       "      <th>avatar_loc</th>\n",
       "      <th>bio_loc</th>\n",
       "      <th>email_loc</th>\n",
       "      <th>emailVerified_loc</th>\n",
       "      <th>phoneNumber_loc</th>\n",
       "      <th>wishlist_loc</th>\n",
       "      <th>stripeAccount_id_loc</th>\n",
       "      <th>month_joined</th>\n",
       "      <th>year_joined</th>\n",
       "      <th>city</th>\n",
       "    </tr>\n",
       "  </thead>\n",
       "  <tbody>\n",
       "    <tr>\n",
       "      <th>3</th>\n",
       "      <td>0127377a-355b-4f82-9d64-8d4361b8080e</td>\n",
       "      <td>delivered</td>\n",
       "      <td>mygoldencloset/beta</td>\n",
       "      <td>2021-10-07 18:27:09.050819+00</td>\n",
       "      <td>transition/complete</td>\n",
       "      <td>2021-10-07 22:00:05.615969+00:00</td>\n",
       "      <td>[{\"code\": \"line-item/units\", \"seats\": null, \"u...</td>\n",
       "      <td>[{\"id\": \"be9d0d34-a3a0-4b40-a184-f49b17c430be\"...</td>\n",
       "      <td>[{\"id\": \"76a37d8d-267c-441b-8e86-3647360bf3d8\"...</td>\n",
       "      <td>{\"~:stripePaymentIntents\": {\"~:default\": {\"~:s...</td>\n",
       "      <td>...</td>\n",
       "      <td>2027c305-1664-46a2-afc0-13b76f136058</td>\n",
       "      <td>NaN</td>\n",
       "      <td>jeanne.rdeseresin@gmail.com</td>\n",
       "      <td>True</td>\n",
       "      <td>0662688736</td>\n",
       "      <td>{79017cbb-4846-4972-a2e3-e757b7a7f516}</td>\n",
       "      <td>e08490be-4739-45bf-a8d5-90b81c533c44</td>\n",
       "      <td>10</td>\n",
       "      <td>2021</td>\n",
       "      <td>Yvelines</td>\n",
       "    </tr>\n",
       "    <tr>\n",
       "      <th>4</th>\n",
       "      <td>013066d4-0018-4277-8976-9bcb0dbdcf35</td>\n",
       "      <td>delivered</td>\n",
       "      <td>mygoldencloset/beta</td>\n",
       "      <td>2021-10-04 13:52:02.575079+00</td>\n",
       "      <td>transition/complete</td>\n",
       "      <td>2021-10-05 14:00:09.332769+00:00</td>\n",
       "      <td>[{\"code\": \"line-item/units\", \"seats\": null, \"u...</td>\n",
       "      <td>[{\"id\": \"6fa7070e-f203-4781-b79c-ca2403abd0ff\"...</td>\n",
       "      <td>[{\"id\": \"ce1ca264-eb4c-4b3b-8952-2ae07c141cd3\"...</td>\n",
       "      <td>{\"~:stripePaymentIntents\": {\"~:default\": {\"~:s...</td>\n",
       "      <td>...</td>\n",
       "      <td>NaN</td>\n",
       "      <td>NaN</td>\n",
       "      <td>berengere.jouve@orange.fr</td>\n",
       "      <td>True</td>\n",
       "      <td>0670104824</td>\n",
       "      <td>{5f3815d9-8589-4a49-bda6-573a88025aac,5cabc08f...</td>\n",
       "      <td>4e255b87-28e8-4862-b658-3ec30850f6cd</td>\n",
       "      <td>10</td>\n",
       "      <td>2021</td>\n",
       "      <td>75015</td>\n",
       "    </tr>\n",
       "    <tr>\n",
       "      <th>9</th>\n",
       "      <td>01fef9fd-65c9-4b94-8100-d79068177a06</td>\n",
       "      <td>delivered</td>\n",
       "      <td>mygoldencloset/beta</td>\n",
       "      <td>2021-06-09 09:08:22.204028+00</td>\n",
       "      <td>transition/complete</td>\n",
       "      <td>2021-06-17 14:35:14.991245+00:00</td>\n",
       "      <td>[{\"code\": \"line-item/units\", \"seats\": null, \"u...</td>\n",
       "      <td>[{\"id\": \"c45e192a-666d-4bb6-8b6e-f41d5200542f\"...</td>\n",
       "      <td>[{\"id\": \"2240cedf-5ac1-4d41-9eb3-a46e4496d90a\"...</td>\n",
       "      <td>{\"~:stripePaymentIntents\": {\"~:default\": {\"~:s...</td>\n",
       "      <td>...</td>\n",
       "      <td>NaN</td>\n",
       "      <td>NaN</td>\n",
       "      <td>tsr.celine@yahoo.fr</td>\n",
       "      <td>True</td>\n",
       "      <td>NaN</td>\n",
       "      <td>{a2c150d7-a89d-47e2-aa90-694ba64bb779}</td>\n",
       "      <td>NaN</td>\n",
       "      <td>6</td>\n",
       "      <td>2021</td>\n",
       "      <td></td>\n",
       "    </tr>\n",
       "    <tr>\n",
       "      <th>10</th>\n",
       "      <td>0298089f-e951-4763-98c8-131d1badd01d</td>\n",
       "      <td>delivered</td>\n",
       "      <td>mygoldencloset/beta</td>\n",
       "      <td>2021-08-04 16:23:56.879049+00</td>\n",
       "      <td>transition/complete</td>\n",
       "      <td>2021-08-04 18:00:04.755865+00:00</td>\n",
       "      <td>[{\"code\": \"line-item/units\", \"seats\": null, \"u...</td>\n",
       "      <td>[{\"id\": \"1e833ffe-fbfb-4585-9eaf-c3dce8cb37ef\"...</td>\n",
       "      <td>[{\"id\": \"7e6642d6-c5c4-4dbb-bf63-47676c465c64\"...</td>\n",
       "      <td>{\"~:stripePaymentIntents\": {\"~:default\": {\"~:s...</td>\n",
       "      <td>...</td>\n",
       "      <td>NaN</td>\n",
       "      <td>NaN</td>\n",
       "      <td>alice.clergeau@gmail.com</td>\n",
       "      <td>True</td>\n",
       "      <td>NaN</td>\n",
       "      <td>{}</td>\n",
       "      <td>NaN</td>\n",
       "      <td>8</td>\n",
       "      <td>2021</td>\n",
       "      <td></td>\n",
       "    </tr>\n",
       "    <tr>\n",
       "      <th>12</th>\n",
       "      <td>030777da-64cc-4b5b-b10b-d844baccff16</td>\n",
       "      <td>delivered</td>\n",
       "      <td>mygoldencloset/beta</td>\n",
       "      <td>2021-08-17 15:38:12.842465+00</td>\n",
       "      <td>transition/complete</td>\n",
       "      <td>2021-08-23 16:51:40.386401+00:00</td>\n",
       "      <td>[{\"code\": \"line-item/units\", \"seats\": null, \"u...</td>\n",
       "      <td>[{\"id\": \"94e05ec3-dc52-4840-9e60-55752de9dad3\"...</td>\n",
       "      <td>[{\"id\": \"c9d69619-5c36-491e-bc23-ae0c5bf5c850\"...</td>\n",
       "      <td>{\"~:stripePaymentIntents\": {\"~:default\": {\"~:s...</td>\n",
       "      <td>...</td>\n",
       "      <td>NaN</td>\n",
       "      <td>NaN</td>\n",
       "      <td>mylena-b@hotmail.fr</td>\n",
       "      <td>True</td>\n",
       "      <td>NaN</td>\n",
       "      <td>{}</td>\n",
       "      <td>NaN</td>\n",
       "      <td>8</td>\n",
       "      <td>2021</td>\n",
       "      <td></td>\n",
       "    </tr>\n",
       "    <tr>\n",
       "      <th>...</th>\n",
       "      <td>...</td>\n",
       "      <td>...</td>\n",
       "      <td>...</td>\n",
       "      <td>...</td>\n",
       "      <td>...</td>\n",
       "      <td>...</td>\n",
       "      <td>...</td>\n",
       "      <td>...</td>\n",
       "      <td>...</td>\n",
       "      <td>...</td>\n",
       "      <td>...</td>\n",
       "      <td>...</td>\n",
       "      <td>...</td>\n",
       "      <td>...</td>\n",
       "      <td>...</td>\n",
       "      <td>...</td>\n",
       "      <td>...</td>\n",
       "      <td>...</td>\n",
       "      <td>...</td>\n",
       "      <td>...</td>\n",
       "      <td>...</td>\n",
       "    </tr>\n",
       "    <tr>\n",
       "      <th>1993</th>\n",
       "      <td>f73ac17a-8336-46b9-99af-426d345afa7a</td>\n",
       "      <td>delivered</td>\n",
       "      <td>mygoldencloset/beta</td>\n",
       "      <td>2021-06-01 11:36:00.906025+00</td>\n",
       "      <td>transition/complete</td>\n",
       "      <td>2021-06-09 23:10:14.691030+00:00</td>\n",
       "      <td>[{\"code\": \"line-item/units\", \"seats\": null, \"u...</td>\n",
       "      <td>[{\"id\": \"886b1c18-fa62-41eb-9534-edede0a92bee\"...</td>\n",
       "      <td>[{\"id\": \"a8faf87d-7238-44c1-bf68-51cdb2f2c0cf\"...</td>\n",
       "      <td>{\"~:stripePaymentIntents\": {\"~:default\": {\"~:s...</td>\n",
       "      <td>...</td>\n",
       "      <td>5f5a4223-1e12-48b2-962e-ad583c49c484</td>\n",
       "      <td>NaN</td>\n",
       "      <td>marion.paget6@gmail.com</td>\n",
       "      <td>True</td>\n",
       "      <td>0679087198</td>\n",
       "      <td>{6bddc261-2322-4e9d-87a4-da7de29ace0a,7df9c419...</td>\n",
       "      <td>da3fcd07-d83d-46d2-bff9-aec9a585a634</td>\n",
       "      <td>6</td>\n",
       "      <td>2021</td>\n",
       "      <td>Paris</td>\n",
       "    </tr>\n",
       "    <tr>\n",
       "      <th>2001</th>\n",
       "      <td>f98da654-5e83-4f8a-9160-47f551599b23</td>\n",
       "      <td>reviewed</td>\n",
       "      <td>mygoldencloset/beta</td>\n",
       "      <td>2021-09-20 16:23:47.801094+00</td>\n",
       "      <td>transition/review-2-by-provider</td>\n",
       "      <td>2021-10-05 06:11:01.238874+00:00</td>\n",
       "      <td>[{\"code\": \"line-item/units\", \"seats\": null, \"u...</td>\n",
       "      <td>[{\"id\": \"0f6181b0-a3c9-41fd-af2f-ac9fbce4b363\"...</td>\n",
       "      <td>[{\"id\": \"50ee10f4-7632-4efd-8cb8-101d0aba33a5\"...</td>\n",
       "      <td>{\"~:stripePaymentIntents\": {\"~:default\": {\"~:s...</td>\n",
       "      <td>...</td>\n",
       "      <td>925b3c4c-393b-4001-a2d1-14f5c5abcf5d</td>\n",
       "      <td>NaN</td>\n",
       "      <td>sidonielemiere@gmail.com</td>\n",
       "      <td>True</td>\n",
       "      <td>NaN</td>\n",
       "      <td>{}</td>\n",
       "      <td>NaN</td>\n",
       "      <td>10</td>\n",
       "      <td>2021</td>\n",
       "      <td>75116 Paris</td>\n",
       "    </tr>\n",
       "    <tr>\n",
       "      <th>2013</th>\n",
       "      <td>fe7533c2-e905-4742-815a-0fcdde4130b0</td>\n",
       "      <td>delivered</td>\n",
       "      <td>mygoldencloset/beta</td>\n",
       "      <td>2021-06-11 18:07:52.333684+00</td>\n",
       "      <td>transition/complete</td>\n",
       "      <td>2021-07-12 14:00:02.911242+00:00</td>\n",
       "      <td>[{\"code\": \"line-item/units\", \"seats\": null, \"u...</td>\n",
       "      <td>[{\"id\": \"a1c53701-a6f3-4bda-9a6f-3293d5890f7b\"...</td>\n",
       "      <td>[{\"id\": \"0890ea05-d124-484e-a903-4976fe2c0f6d\"...</td>\n",
       "      <td>{\"~:stripePaymentIntents\": {\"~:default\": {\"~:s...</td>\n",
       "      <td>...</td>\n",
       "      <td>NaN</td>\n",
       "      <td>NaN</td>\n",
       "      <td>agathedevilliers0049@yahoo.com</td>\n",
       "      <td>True</td>\n",
       "      <td>NaN</td>\n",
       "      <td>{}</td>\n",
       "      <td>NaN</td>\n",
       "      <td>7</td>\n",
       "      <td>2021</td>\n",
       "      <td>78220 Viroflay</td>\n",
       "    </tr>\n",
       "    <tr>\n",
       "      <th>2018</th>\n",
       "      <td>ffd915c4-f039-4cc5-a436-3f8046e17321</td>\n",
       "      <td>delivered</td>\n",
       "      <td>mygoldencloset/beta</td>\n",
       "      <td>2021-08-30 11:51:18.639268+00</td>\n",
       "      <td>transition/complete</td>\n",
       "      <td>2021-09-10 14:00:08.220435+00:00</td>\n",
       "      <td>[{\"code\": \"line-item/units\", \"seats\": null, \"u...</td>\n",
       "      <td>[{\"id\": \"89a05124-9be8-4b09-b89f-7e9a2456d6eb\"...</td>\n",
       "      <td>[{\"id\": \"32690600-f561-4065-8db8-6b3bd1c8c35a\"...</td>\n",
       "      <td>{\"~:stripePaymentIntents\": {\"~:default\": {\"~:s...</td>\n",
       "      <td>...</td>\n",
       "      <td>NaN</td>\n",
       "      <td>NaN</td>\n",
       "      <td>sylvie.bourdet360@orange.fr</td>\n",
       "      <td>False</td>\n",
       "      <td>NaN</td>\n",
       "      <td>{}</td>\n",
       "      <td>0d0fe189-b97e-46fb-9070-c604dc5918d4</td>\n",
       "      <td>9</td>\n",
       "      <td>2021</td>\n",
       "      <td>Hauts-de-Seine</td>\n",
       "    </tr>\n",
       "    <tr>\n",
       "      <th>2020</th>\n",
       "      <td>fffe668a-625c-4d06-801a-f89548cd02ca</td>\n",
       "      <td>accepted</td>\n",
       "      <td>mygoldencloset/beta</td>\n",
       "      <td>2021-09-19 14:25:54.907812+00</td>\n",
       "      <td>transition/accept</td>\n",
       "      <td>2021-09-19 14:30:13.943737+00:00</td>\n",
       "      <td>[{\"code\": \"line-item/units\", \"seats\": null, \"u...</td>\n",
       "      <td>[{\"id\": \"ba47599a-121c-4185-a9df-d2775688f716\"...</td>\n",
       "      <td>{}</td>\n",
       "      <td>{\"~:stripePaymentIntents\": {\"~:default\": {\"~:s...</td>\n",
       "      <td>...</td>\n",
       "      <td>NaN</td>\n",
       "      <td>NaN</td>\n",
       "      <td>marguerite.dallemagne@gmail.com</td>\n",
       "      <td>True</td>\n",
       "      <td>NaN</td>\n",
       "      <td>{}</td>\n",
       "      <td>NaN</td>\n",
       "      <td>9</td>\n",
       "      <td>2021</td>\n",
       "      <td></td>\n",
       "    </tr>\n",
       "  </tbody>\n",
       "</table>\n",
       "<p>492 rows × 71 columns</p>\n",
       "</div>"
      ],
      "text/plain": [
       "                                id_transac state_transac              process  \\\n",
       "3     0127377a-355b-4f82-9d64-8d4361b8080e     delivered  mygoldencloset/beta   \n",
       "4     013066d4-0018-4277-8976-9bcb0dbdcf35     delivered  mygoldencloset/beta   \n",
       "9     01fef9fd-65c9-4b94-8100-d79068177a06     delivered  mygoldencloset/beta   \n",
       "10    0298089f-e951-4763-98c8-131d1badd01d     delivered  mygoldencloset/beta   \n",
       "12    030777da-64cc-4b5b-b10b-d844baccff16     delivered  mygoldencloset/beta   \n",
       "...                                    ...           ...                  ...   \n",
       "1993  f73ac17a-8336-46b9-99af-426d345afa7a     delivered  mygoldencloset/beta   \n",
       "2001  f98da654-5e83-4f8a-9160-47f551599b23      reviewed  mygoldencloset/beta   \n",
       "2013  fe7533c2-e905-4742-815a-0fcdde4130b0     delivered  mygoldencloset/beta   \n",
       "2018  ffd915c4-f039-4cc5-a436-3f8046e17321     delivered  mygoldencloset/beta   \n",
       "2020  fffe668a-625c-4d06-801a-f89548cd02ca      accepted  mygoldencloset/beta   \n",
       "\n",
       "                  createdAt_transac                   lastTransition  \\\n",
       "3     2021-10-07 18:27:09.050819+00              transition/complete   \n",
       "4     2021-10-04 13:52:02.575079+00              transition/complete   \n",
       "9     2021-06-09 09:08:22.204028+00              transition/complete   \n",
       "10    2021-08-04 16:23:56.879049+00              transition/complete   \n",
       "12    2021-08-17 15:38:12.842465+00              transition/complete   \n",
       "...                             ...                              ...   \n",
       "1993  2021-06-01 11:36:00.906025+00              transition/complete   \n",
       "2001  2021-09-20 16:23:47.801094+00  transition/review-2-by-provider   \n",
       "2013  2021-06-11 18:07:52.333684+00              transition/complete   \n",
       "2018  2021-08-30 11:51:18.639268+00              transition/complete   \n",
       "2020  2021-09-19 14:25:54.907812+00                transition/accept   \n",
       "\n",
       "                   lastTransitionedAt  \\\n",
       "3    2021-10-07 22:00:05.615969+00:00   \n",
       "4    2021-10-05 14:00:09.332769+00:00   \n",
       "9    2021-06-17 14:35:14.991245+00:00   \n",
       "10   2021-08-04 18:00:04.755865+00:00   \n",
       "12   2021-08-23 16:51:40.386401+00:00   \n",
       "...                               ...   \n",
       "1993 2021-06-09 23:10:14.691030+00:00   \n",
       "2001 2021-10-05 06:11:01.238874+00:00   \n",
       "2013 2021-07-12 14:00:02.911242+00:00   \n",
       "2018 2021-09-10 14:00:08.220435+00:00   \n",
       "2020 2021-09-19 14:30:13.943737+00:00   \n",
       "\n",
       "                                              lineItems  \\\n",
       "3     [{\"code\": \"line-item/units\", \"seats\": null, \"u...   \n",
       "4     [{\"code\": \"line-item/units\", \"seats\": null, \"u...   \n",
       "9     [{\"code\": \"line-item/units\", \"seats\": null, \"u...   \n",
       "10    [{\"code\": \"line-item/units\", \"seats\": null, \"u...   \n",
       "12    [{\"code\": \"line-item/units\", \"seats\": null, \"u...   \n",
       "...                                                 ...   \n",
       "1993  [{\"code\": \"line-item/units\", \"seats\": null, \"u...   \n",
       "2001  [{\"code\": \"line-item/units\", \"seats\": null, \"u...   \n",
       "2013  [{\"code\": \"line-item/units\", \"seats\": null, \"u...   \n",
       "2018  [{\"code\": \"line-item/units\", \"seats\": null, \"u...   \n",
       "2020  [{\"code\": \"line-item/units\", \"seats\": null, \"u...   \n",
       "\n",
       "                                                 payIns  \\\n",
       "3     [{\"id\": \"be9d0d34-a3a0-4b40-a184-f49b17c430be\"...   \n",
       "4     [{\"id\": \"6fa7070e-f203-4781-b79c-ca2403abd0ff\"...   \n",
       "9     [{\"id\": \"c45e192a-666d-4bb6-8b6e-f41d5200542f\"...   \n",
       "10    [{\"id\": \"1e833ffe-fbfb-4585-9eaf-c3dce8cb37ef\"...   \n",
       "12    [{\"id\": \"94e05ec3-dc52-4840-9e60-55752de9dad3\"...   \n",
       "...                                                 ...   \n",
       "1993  [{\"id\": \"886b1c18-fa62-41eb-9534-edede0a92bee\"...   \n",
       "2001  [{\"id\": \"0f6181b0-a3c9-41fd-af2f-ac9fbce4b363\"...   \n",
       "2013  [{\"id\": \"a1c53701-a6f3-4bda-9a6f-3293d5890f7b\"...   \n",
       "2018  [{\"id\": \"89a05124-9be8-4b09-b89f-7e9a2456d6eb\"...   \n",
       "2020  [{\"id\": \"ba47599a-121c-4185-a9df-d2775688f716\"...   \n",
       "\n",
       "                                                payOuts  \\\n",
       "3     [{\"id\": \"76a37d8d-267c-441b-8e86-3647360bf3d8\"...   \n",
       "4     [{\"id\": \"ce1ca264-eb4c-4b3b-8952-2ae07c141cd3\"...   \n",
       "9     [{\"id\": \"2240cedf-5ac1-4d41-9eb3-a46e4496d90a\"...   \n",
       "10    [{\"id\": \"7e6642d6-c5c4-4dbb-bf63-47676c465c64\"...   \n",
       "12    [{\"id\": \"c9d69619-5c36-491e-bc23-ae0c5bf5c850\"...   \n",
       "...                                                 ...   \n",
       "1993  [{\"id\": \"a8faf87d-7238-44c1-bf68-51cdb2f2c0cf\"...   \n",
       "2001  [{\"id\": \"50ee10f4-7632-4efd-8cb8-101d0aba33a5\"...   \n",
       "2013  [{\"id\": \"0890ea05-d124-484e-a903-4976fe2c0f6d\"...   \n",
       "2018  [{\"id\": \"32690600-f561-4065-8db8-6b3bd1c8c35a\"...   \n",
       "2020                                                 {}   \n",
       "\n",
       "                                          protectedData  ...  \\\n",
       "3     {\"~:stripePaymentIntents\": {\"~:default\": {\"~:s...  ...   \n",
       "4     {\"~:stripePaymentIntents\": {\"~:default\": {\"~:s...  ...   \n",
       "9     {\"~:stripePaymentIntents\": {\"~:default\": {\"~:s...  ...   \n",
       "10    {\"~:stripePaymentIntents\": {\"~:default\": {\"~:s...  ...   \n",
       "12    {\"~:stripePaymentIntents\": {\"~:default\": {\"~:s...  ...   \n",
       "...                                                 ...  ...   \n",
       "1993  {\"~:stripePaymentIntents\": {\"~:default\": {\"~:s...  ...   \n",
       "2001  {\"~:stripePaymentIntents\": {\"~:default\": {\"~:s...  ...   \n",
       "2013  {\"~:stripePaymentIntents\": {\"~:default\": {\"~:s...  ...   \n",
       "2018  {\"~:stripePaymentIntents\": {\"~:default\": {\"~:s...  ...   \n",
       "2020  {\"~:stripePaymentIntents\": {\"~:default\": {\"~:s...  ...   \n",
       "\n",
       "                                avatar_loc bio_loc  \\\n",
       "3     2027c305-1664-46a2-afc0-13b76f136058     NaN   \n",
       "4                                      NaN     NaN   \n",
       "9                                      NaN     NaN   \n",
       "10                                     NaN     NaN   \n",
       "12                                     NaN     NaN   \n",
       "...                                    ...     ...   \n",
       "1993  5f5a4223-1e12-48b2-962e-ad583c49c484     NaN   \n",
       "2001  925b3c4c-393b-4001-a2d1-14f5c5abcf5d     NaN   \n",
       "2013                                   NaN     NaN   \n",
       "2018                                   NaN     NaN   \n",
       "2020                                   NaN     NaN   \n",
       "\n",
       "                            email_loc emailVerified_loc phoneNumber_loc  \\\n",
       "3         jeanne.rdeseresin@gmail.com              True      0662688736   \n",
       "4           berengere.jouve@orange.fr              True      0670104824   \n",
       "9                 tsr.celine@yahoo.fr              True             NaN   \n",
       "10           alice.clergeau@gmail.com              True             NaN   \n",
       "12                mylena-b@hotmail.fr              True             NaN   \n",
       "...                               ...               ...             ...   \n",
       "1993          marion.paget6@gmail.com              True      0679087198   \n",
       "2001         sidonielemiere@gmail.com              True             NaN   \n",
       "2013   agathedevilliers0049@yahoo.com              True             NaN   \n",
       "2018      sylvie.bourdet360@orange.fr             False             NaN   \n",
       "2020  marguerite.dallemagne@gmail.com              True             NaN   \n",
       "\n",
       "                                           wishlist_loc  \\\n",
       "3                {79017cbb-4846-4972-a2e3-e757b7a7f516}   \n",
       "4     {5f3815d9-8589-4a49-bda6-573a88025aac,5cabc08f...   \n",
       "9                {a2c150d7-a89d-47e2-aa90-694ba64bb779}   \n",
       "10                                                   {}   \n",
       "12                                                   {}   \n",
       "...                                                 ...   \n",
       "1993  {6bddc261-2322-4e9d-87a4-da7de29ace0a,7df9c419...   \n",
       "2001                                                 {}   \n",
       "2013                                                 {}   \n",
       "2018                                                 {}   \n",
       "2020                                                 {}   \n",
       "\n",
       "                      stripeAccount_id_loc  month_joined  year_joined  \\\n",
       "3     e08490be-4739-45bf-a8d5-90b81c533c44            10         2021   \n",
       "4     4e255b87-28e8-4862-b658-3ec30850f6cd            10         2021   \n",
       "9                                      NaN             6         2021   \n",
       "10                                     NaN             8         2021   \n",
       "12                                     NaN             8         2021   \n",
       "...                                    ...           ...          ...   \n",
       "1993  da3fcd07-d83d-46d2-bff9-aec9a585a634             6         2021   \n",
       "2001                                   NaN            10         2021   \n",
       "2013                                   NaN             7         2021   \n",
       "2018  0d0fe189-b97e-46fb-9070-c604dc5918d4             9         2021   \n",
       "2020                                   NaN             9         2021   \n",
       "\n",
       "                 city  \n",
       "3            Yvelines  \n",
       "4               75015  \n",
       "9                      \n",
       "10                     \n",
       "12                     \n",
       "...               ...  \n",
       "1993            Paris  \n",
       "2001      75116 Paris  \n",
       "2013   78220 Viroflay  \n",
       "2018   Hauts-de-Seine  \n",
       "2020                   \n",
       "\n",
       "[492 rows x 71 columns]"
      ]
     },
     "execution_count": 31,
     "metadata": {},
     "output_type": "execute_result"
    }
   ],
   "source": [
    "full_data_w_transaction"
   ]
  },
  {
   "cell_type": "code",
   "execution_count": 44,
   "metadata": {
    "ExecuteTime": {
     "end_time": "2021-10-24T17:41:36.711250Z",
     "start_time": "2021-10-24T17:41:36.551373Z"
    }
   },
   "outputs": [],
   "source": [
    "profiles.date_joined = pd.to_datetime(profiles.date_joined)"
   ]
  },
  {
   "cell_type": "code",
   "execution_count": 54,
   "metadata": {
    "ExecuteTime": {
     "end_time": "2021-10-24T17:45:04.937449Z",
     "start_time": "2021-10-24T17:45:04.337037Z"
    }
   },
   "outputs": [
    {
     "data": {
      "text/plain": [
       "<matplotlib.axes._subplots.AxesSubplot at 0x1ea8d4122e8>"
      ]
     },
     "execution_count": 54,
     "metadata": {},
     "output_type": "execute_result"
    },
    {
     "data": {
      "image/png": "[encoded data removed]",
      "text/plain": [
       "<matplotlib.figure.Figure at 0x1ea8d41db38>"
      ]
     },
     "metadata": {},
     "output_type": "display_data"
    }
   ],
   "source": [
    "profiles.groupby(pd.Grouper(key='date_joined',freq='m')).count()['id'].plot(kind='bar')"
   ]
  },
  {
   "cell_type": "code",
   "execution_count": 73,
   "metadata": {
    "ExecuteTime": {
     "end_time": "2021-10-24T18:00:01.524125Z",
     "start_time": "2021-10-24T18:00:01.382851Z"
    }
   },
   "outputs": [],
   "source": [
    "data_transac = data[data.istransaction == 1]"
   ]
  },
  {
   "cell_type": "code",
   "execution_count": null,
   "metadata": {},
   "outputs": [],
   "source": [
    "transition/enquire                          1282\n",
    "transition/complete                          188\n",
    "transition/expire-review-period              152\n",
    "transition/decline                            88\n",
    "transition/expire                             60\n",
    "transition/cancel                             47\n",
    "transition/review-2-by-customer               38\n",
    "transition/expire-payment                     27\n",
    "transition/review-1-by-provider               26\n",
    "transition/review-2-by-provider               24\n",
    "transition/accept                             23\n",
    "transition/request-payment                    17\n",
    "transition/expire-customer-review-period      17\n",
    "transition/review-1-by-customer               14\n",
    "transition/expire-provider-review-period      10\n",
    "transition/request-payment-after-enquiry       6\n",
    "transition/confirm-payment                     2"
   ]
  },
  {
   "cell_type": "markdown",
   "metadata": {},
   "source": [
    "# Profile Card"
   ]
  },
  {
   "cell_type": "code",
   "execution_count": 97,
   "metadata": {
    "ExecuteTime": {
     "end_time": "2021-10-24T18:06:46.729880Z",
     "start_time": "2021-10-24T18:06:46.600456Z"
    }
   },
   "outputs": [],
   "source": [
    "def count_by_name(data):\n",
    "    column = list(data.columns)[-1]\n",
    "    output = data.groupby(['id_x']).count().sort_values(by=column,ascending=False)[column]\n",
    "    return pd.DataFrame(output).reset_index()"
   ]
  },
  {
   "cell_type": "code",
   "execution_count": 135,
   "metadata": {
    "ExecuteTime": {
     "end_time": "2021-10-24T18:31:04.487783Z",
     "start_time": "2021-10-24T18:31:04.319663Z"
    }
   },
   "outputs": [],
   "source": [
    "activity_per_profile = count_by_name(profiles.merge(data,how='left',left_on = 'id',right_on = 'provider_id')).rename(columns={'day_transition':'count_activity'})"
   ]
  },
  {
   "cell_type": "code",
   "execution_count": 136,
   "metadata": {
    "ExecuteTime": {
     "end_time": "2021-10-24T18:31:13.977256Z",
     "start_time": "2021-10-24T18:31:13.760245Z"
    }
   },
   "outputs": [],
   "source": [
    "transac_per_profile = count_by_name(profiles.merge(data_transac,how='left',left_on = 'id',right_on = 'provider_id')).rename(columns={'day_transition':'count_transac'})"
   ]
  },
  {
   "cell_type": "code",
   "execution_count": 123,
   "metadata": {
    "ExecuteTime": {
     "end_time": "2021-10-24T18:21:14.853946Z",
     "start_time": "2021-10-24T18:21:14.677750Z"
    }
   },
   "outputs": [],
   "source": [
    "transac_date_stats = (profiles\n",
    "                 .merge(data_transac,how='left',left_on = 'id',right_on = 'provider_id')\n",
    "                 .groupby('id_x')\n",
    "                 .agg({'lastTransitionedAt': [np.min,np.max]})\n",
    "                )"
   ]
  },
  {
   "cell_type": "code",
   "execution_count": 137,
   "metadata": {
    "ExecuteTime": {
     "end_time": "2021-10-24T18:31:20.700590Z",
     "start_time": "2021-10-24T18:31:20.497026Z"
    }
   },
   "outputs": [
    {
     "name": "stderr",
     "output_type": "stream",
     "text": [
      "C:\\Users\\eric_\\Anaconda3\\lib\\site-packages\\pandas\\core\\reshape\\merge.py:618: UserWarning:\n",
      "\n",
      "merging between different levels can give an unintended result (1 levels on the left, 2 on the right)\n",
      "\n"
     ]
    }
   ],
   "source": [
    "profile_stats = (profiles\n",
    "                 .merge(activity_per_profile,how='left',left_on = 'id',right_on = 'id_x')\n",
    "                 .merge(transac_per_profile,how='left',left_on = 'id',right_on = 'id_x')\n",
    "                 .merge(transac_date_stats,how='left',left_on = 'id',right_on = 'id_x')\n",
    "                )"
   ]
  },
  {
   "cell_type": "code",
   "execution_count": 138,
   "metadata": {
    "ExecuteTime": {
     "end_time": "2021-10-24T18:31:22.865418Z",
     "start_time": "2021-10-24T18:31:22.737133Z"
    }
   },
   "outputs": [
    {
     "data": {
      "text/plain": [
       "Index([                    'password',                   'last_login',\n",
       "                                 'id',                   'first_name',\n",
       "                          'last_name',                  'date_joined',\n",
       "                           'is_staff',                 'is_superuser',\n",
       "                          'is_active',                       'avatar',\n",
       "                                'bio',                        'email',\n",
       "                      'emailVerified',                  'phoneNumber',\n",
       "                           'wishlist',             'stripeAccount_id',\n",
       "                             'id_x_x',               'count_activity',\n",
       "                             'id_x_y',                'count_transac',\n",
       "       ('lastTransitionedAt', 'amin'), ('lastTransitionedAt', 'amax')],\n",
       "      dtype='object')"
      ]
     },
     "execution_count": 138,
     "metadata": {},
     "output_type": "execute_result"
    }
   ],
   "source": [
    "profile_stats.columns"
   ]
  },
  {
   "cell_type": "code",
   "execution_count": 145,
   "metadata": {
    "ExecuteTime": {
     "end_time": "2021-10-24T18:32:43.000717Z",
     "start_time": "2021-10-24T18:32:42.846840Z"
    }
   },
   "outputs": [
    {
     "ename": "KeyError",
     "evalue": "\"['amin'] not in index\"",
     "output_type": "error",
     "traceback": [
      "\u001b[1;31m---------------------------------------------------------------------------\u001b[0m",
      "\u001b[1;31mKeyError\u001b[0m                                  Traceback (most recent call last)",
      "\u001b[1;32m<ipython-input-145-a8467898bf63>\u001b[0m in \u001b[0;36m<module>\u001b[1;34m()\u001b[0m\n\u001b[1;32m----> 1\u001b[1;33m \u001b[0mprofile_stats\u001b[0m\u001b[1;33m[\u001b[0m\u001b[1;33m[\u001b[0m\u001b[1;34m'first_name'\u001b[0m\u001b[1;33m,\u001b[0m\u001b[1;34m'last_name'\u001b[0m\u001b[1;33m,\u001b[0m\u001b[1;34m'date_joined'\u001b[0m\u001b[1;33m,\u001b[0m\u001b[1;34m'count_activity'\u001b[0m\u001b[1;33m,\u001b[0m\u001b[1;34m'count_transac'\u001b[0m\u001b[1;33m,\u001b[0m\u001b[1;34m'amin'\u001b[0m\u001b[1;33m]\u001b[0m\u001b[1;33m]\u001b[0m\u001b[1;33m\u001b[0m\u001b[0m\n\u001b[0m",
      "\u001b[1;32m~\\Anaconda3\\lib\\site-packages\\pandas\\core\\frame.py\u001b[0m in \u001b[0;36m__getitem__\u001b[1;34m(self, key)\u001b[0m\n\u001b[0;32m   2804\u001b[0m             \u001b[1;32mif\u001b[0m \u001b[0mis_iterator\u001b[0m\u001b[1;33m(\u001b[0m\u001b[0mkey\u001b[0m\u001b[1;33m)\u001b[0m\u001b[1;33m:\u001b[0m\u001b[1;33m\u001b[0m\u001b[0m\n\u001b[0;32m   2805\u001b[0m                 \u001b[0mkey\u001b[0m \u001b[1;33m=\u001b[0m \u001b[0mlist\u001b[0m\u001b[1;33m(\u001b[0m\u001b[0mkey\u001b[0m\u001b[1;33m)\u001b[0m\u001b[1;33m\u001b[0m\u001b[0m\n\u001b[1;32m-> 2806\u001b[1;33m             \u001b[0mindexer\u001b[0m \u001b[1;33m=\u001b[0m \u001b[0mself\u001b[0m\u001b[1;33m.\u001b[0m\u001b[0mloc\u001b[0m\u001b[1;33m.\u001b[0m\u001b[0m_get_listlike_indexer\u001b[0m\u001b[1;33m(\u001b[0m\u001b[0mkey\u001b[0m\u001b[1;33m,\u001b[0m \u001b[0maxis\u001b[0m\u001b[1;33m=\u001b[0m\u001b[1;36m1\u001b[0m\u001b[1;33m,\u001b[0m \u001b[0mraise_missing\u001b[0m\u001b[1;33m=\u001b[0m\u001b[1;32mTrue\u001b[0m\u001b[1;33m)\u001b[0m\u001b[1;33m[\u001b[0m\u001b[1;36m1\u001b[0m\u001b[1;33m]\u001b[0m\u001b[1;33m\u001b[0m\u001b[0m\n\u001b[0m\u001b[0;32m   2807\u001b[0m \u001b[1;33m\u001b[0m\u001b[0m\n\u001b[0;32m   2808\u001b[0m         \u001b[1;31m# take() does not accept boolean indexers\u001b[0m\u001b[1;33m\u001b[0m\u001b[1;33m\u001b[0m\u001b[0m\n",
      "\u001b[1;32m~\\Anaconda3\\lib\\site-packages\\pandas\\core\\indexing.py\u001b[0m in \u001b[0;36m_get_listlike_indexer\u001b[1;34m(self, key, axis, raise_missing)\u001b[0m\n\u001b[0;32m   1551\u001b[0m \u001b[1;33m\u001b[0m\u001b[0m\n\u001b[0;32m   1552\u001b[0m         self._validate_read_indexer(\n\u001b[1;32m-> 1553\u001b[1;33m             \u001b[0mkeyarr\u001b[0m\u001b[1;33m,\u001b[0m \u001b[0mindexer\u001b[0m\u001b[1;33m,\u001b[0m \u001b[0mo\u001b[0m\u001b[1;33m.\u001b[0m\u001b[0m_get_axis_number\u001b[0m\u001b[1;33m(\u001b[0m\u001b[0maxis\u001b[0m\u001b[1;33m)\u001b[0m\u001b[1;33m,\u001b[0m \u001b[0mraise_missing\u001b[0m\u001b[1;33m=\u001b[0m\u001b[0mraise_missing\u001b[0m\u001b[1;33m\u001b[0m\u001b[0m\n\u001b[0m\u001b[0;32m   1554\u001b[0m         )\n\u001b[0;32m   1555\u001b[0m         \u001b[1;32mreturn\u001b[0m \u001b[0mkeyarr\u001b[0m\u001b[1;33m,\u001b[0m \u001b[0mindexer\u001b[0m\u001b[1;33m\u001b[0m\u001b[0m\n",
      "\u001b[1;32m~\\Anaconda3\\lib\\site-packages\\pandas\\core\\indexing.py\u001b[0m in \u001b[0;36m_validate_read_indexer\u001b[1;34m(self, key, indexer, axis, raise_missing)\u001b[0m\n\u001b[0;32m   1644\u001b[0m             \u001b[1;32mif\u001b[0m \u001b[1;32mnot\u001b[0m \u001b[1;33m(\u001b[0m\u001b[0mself\u001b[0m\u001b[1;33m.\u001b[0m\u001b[0mname\u001b[0m \u001b[1;33m==\u001b[0m \u001b[1;34m\"loc\"\u001b[0m \u001b[1;32mand\u001b[0m \u001b[1;32mnot\u001b[0m \u001b[0mraise_missing\u001b[0m\u001b[1;33m)\u001b[0m\u001b[1;33m:\u001b[0m\u001b[1;33m\u001b[0m\u001b[0m\n\u001b[0;32m   1645\u001b[0m                 \u001b[0mnot_found\u001b[0m \u001b[1;33m=\u001b[0m \u001b[0mlist\u001b[0m\u001b[1;33m(\u001b[0m\u001b[0mset\u001b[0m\u001b[1;33m(\u001b[0m\u001b[0mkey\u001b[0m\u001b[1;33m)\u001b[0m \u001b[1;33m-\u001b[0m \u001b[0mset\u001b[0m\u001b[1;33m(\u001b[0m\u001b[0max\u001b[0m\u001b[1;33m)\u001b[0m\u001b[1;33m)\u001b[0m\u001b[1;33m\u001b[0m\u001b[0m\n\u001b[1;32m-> 1646\u001b[1;33m                 \u001b[1;32mraise\u001b[0m \u001b[0mKeyError\u001b[0m\u001b[1;33m(\u001b[0m\u001b[1;34mf\"{not_found} not in index\"\u001b[0m\u001b[1;33m)\u001b[0m\u001b[1;33m\u001b[0m\u001b[0m\n\u001b[0m\u001b[0;32m   1647\u001b[0m \u001b[1;33m\u001b[0m\u001b[0m\n\u001b[0;32m   1648\u001b[0m             \u001b[1;31m# we skip the warning on Categorical/Interval\u001b[0m\u001b[1;33m\u001b[0m\u001b[1;33m\u001b[0m\u001b[0m\n",
      "\u001b[1;31mKeyError\u001b[0m: \"['amin'] not in index\""
     ]
    }
   ],
   "source": [
    "profile_stats[['first_name','last_name','date_joined','count_activity','count_transac','amin']]"
   ]
  },
  {
   "cell_type": "code",
   "execution_count": 75,
   "metadata": {
    "ExecuteTime": {
     "end_time": "2021-10-24T18:00:53.324699Z",
     "start_time": "2021-10-24T18:00:53.142533Z"
    }
   },
   "outputs": [
    {
     "data": {
      "text/plain": [
       "first_name   last_name\n",
       "Amélie       de Champs    94\n",
       "Madeleine    Ispari       75\n",
       "Amélie       Charbon      73\n",
       "Anne-Cécile  HULOT        70\n",
       "Diane        Cbt          39\n",
       "                          ..\n",
       "Céline       Bhavsar       1\n",
       "             Dumoulin      1\n",
       "             GALLO         1\n",
       "             Le coq        1\n",
       "Inès         Chopard       1\n",
       "Name: is_active, Length: 3220, dtype: int64"
      ]
     },
     "execution_count": 75,
     "metadata": {},
     "output_type": "execute_result"
    }
   ],
   "source": [
    "profiles.merge(data,how='left',left_on = 'id',right_on = 'provider_id').groupby(['first_name','last_name']).count().sort_values(by='is_active',ascending=False)['is_active']"
   ]
  },
  {
   "cell_type": "code",
   "execution_count": null,
   "metadata": {},
   "outputs": [],
   "source": []
  },
  {
   "cell_type": "code",
   "execution_count": null,
   "metadata": {},
   "outputs": [],
   "source": []
  },
  {
   "cell_type": "code",
   "execution_count": null,
   "metadata": {},
   "outputs": [],
   "source": []
  },
  {
   "cell_type": "code",
   "execution_count": null,
   "metadata": {},
   "outputs": [],
   "source": []
  }
 ],
 "metadata": {
  "kernelspec": {
   "display_name": "Python 3",
   "language": "python",
   "name": "python3"
  },
  "language_info": {
   "codemirror_mode": {
    "name": "ipython",
    "version": 3
   },
   "file_extension": ".py",
   "mimetype": "text/x-python",
   "name": "python",
   "nbconvert_exporter": "python",
   "pygments_lexer": "ipython3",
   "version": "3.6.4"
  },
  "toc": {
   "base_numbering": 1,
   "nav_menu": {},
   "number_sections": true,
   "sideBar": true,
   "skip_h1_title": false,
   "title_cell": "Table of Contents",
   "title_sidebar": "Contents",
   "toc_cell": false,
   "toc_position": {},
   "toc_section_display": true,
   "toc_window_display": false
  }
 },
 "nbformat": 4,
 "nbformat_minor": 2
}
